{
 "cells": [
  {
   "cell_type": "code",
   "execution_count": 1,
   "id": "87cc7f0e-88aa-4d46-9ee7-c2ca188a8025",
   "metadata": {
    "execution": {
     "iopub.execute_input": "2023-07-31T15:15:37.416768Z",
     "iopub.status.busy": "2023-07-31T15:15:37.416209Z",
     "iopub.status.idle": "2023-07-31T15:15:37.439314Z",
     "shell.execute_reply": "2023-07-31T15:15:37.438809Z",
     "shell.execute_reply.started": "2023-07-31T15:15:37.416744Z"
    }
   },
   "outputs": [
    {
     "data": {
      "text/plain": [
       "<module 'os' (frozen)>"
      ]
     },
     "execution_count": 1,
     "metadata": {},
     "output_type": "execute_result"
    }
   ],
   "source": [
    "import os; os"
   ]
  },
  {
   "cell_type": "code",
   "execution_count": null,
   "id": "654e1e46-fe10-4fa8-96fc-88c852b320fd",
   "metadata": {},
   "outputs": [],
   "source": []
  }
 ],
 "metadata": {
  "kernelspec": {
   "display_name": "Python 3 (ipykernel)",
   "language": "python",
   "name": "python3"
  },
  "language_info": {
   "codemirror_mode": {
    "name": "ipython",
    "version": 3
   },
   "file_extension": ".py",
   "mimetype": "text/x-python",
   "name": "python",
   "nbconvert_exporter": "python",
   "pygments_lexer": "ipython3",
   "version": "3.11.4"
  }
 },
 "nbformat": 4,
 "nbformat_minor": 5
}
